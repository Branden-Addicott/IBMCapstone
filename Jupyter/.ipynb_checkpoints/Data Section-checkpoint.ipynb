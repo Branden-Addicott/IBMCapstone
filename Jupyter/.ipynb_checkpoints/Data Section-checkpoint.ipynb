{
 "cells": [
  {
   "cell_type": "markdown",
   "metadata": {},
   "source": [
    "# Data Section"
   ]
  },
  {
   "cell_type": "markdown",
   "metadata": {},
   "source": [
    "Author: Branden Addicott <br>\n",
    "Created on: 16 August 2020"
   ]
  },
  {
   "cell_type": "markdown",
   "metadata": {},
   "source": [
    "The US Accident June 20  from [Kagle](https://www.kaggle.com/sobhanmoosavi/us-accidents) data set is used for this research. It contains an accident severity indicator ranging from 1 to 4. 1 indicates the a lesser impact on traffic and 4 indicates a significant impact on traffic.  The data set contains accident data from February 2016 through June 2020 for 49 of the 50 states within the US (excluding Hawaii). It contains approximately 3.5 million (3,513,617) observations across 42 variables ([Data Dictionary](https://smoosavi.org/datasets/us_accidents)). The data was collected from three sources: Bing 29.45%, Map Quest  68.71% and Map Quest – Bing 1.84%."
   ]
  }
 ],
 "metadata": {
  "kernelspec": {
   "display_name": "Python 3",
   "language": "python",
   "name": "python3"
  },
  "language_info": {
   "codemirror_mode": {
    "name": "ipython",
    "version": 3
   },
   "file_extension": ".py",
   "mimetype": "text/x-python",
   "name": "python",
   "nbconvert_exporter": "python",
   "pygments_lexer": "ipython3",
   "version": "3.6.9"
  }
 },
 "nbformat": 4,
 "nbformat_minor": 4
}
