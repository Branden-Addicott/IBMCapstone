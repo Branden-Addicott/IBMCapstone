{
 "cells": [
  {
   "cell_type": "markdown",
   "metadata": {},
   "source": [
    "# Business Problem"
   ]
  },
  {
   "cell_type": "markdown",
   "metadata": {},
   "source": [
    "Author: Branden Addicott <br>\n",
    "Created on: 15 August 2020"
   ]
  },
  {
   "cell_type": "markdown",
   "metadata": {},
   "source": [
    "Car accidents are estimated to cost the United States approximately \\$900 billion dollars per year and kill nearly 40,000 individuals yearly. With this large of an impact on every day life it is important to understand what factors influence car accidents and inform the public on how to reduce their risks.\n",
    "\n",
    "The goal of this project is to gain the ability to predict the severity of an auto accident based on factors such as the driver being under the influence of drugs or alcohol."
   ]
  }
 ],
 "metadata": {
  "kernelspec": {
   "display_name": "Python 3",
   "language": "python",
   "name": "python3"
  },
  "language_info": {
   "codemirror_mode": {
    "name": "ipython",
    "version": 3
   },
   "file_extension": ".py",
   "mimetype": "text/x-python",
   "name": "python",
   "nbconvert_exporter": "python",
   "pygments_lexer": "ipython3",
   "version": "3.6.9"
  }
 },
 "nbformat": 4,
 "nbformat_minor": 4
}
